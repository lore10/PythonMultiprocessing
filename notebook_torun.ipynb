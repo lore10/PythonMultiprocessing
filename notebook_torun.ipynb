{
 "cells": [
  {
   "cell_type": "markdown",
   "metadata": {},
   "source": [
    "# Multiprocesamiento - Lab4"
   ]
  },
  {
   "cell_type": "markdown",
   "metadata": {},
   "source": [
    "Ejemplo para correr archivo .py"
   ]
  },
  {
   "cell_type": "code",
   "execution_count": 16,
   "metadata": {
    "collapsed": false
   },
   "outputs": [
    {
     "name": "stdout",
     "output_type": "stream",
     "text": [
      "Hi!\n",
      "Ingrese su nombre: Pedro\n",
      "Buen día Pedro\n"
     ]
    }
   ],
   "source": [
    "%run -i 'test1.py'"
   ]
  },
  {
   "cell_type": "code",
   "execution_count": 18,
   "metadata": {
    "collapsed": false
   },
   "outputs": [
    {
     "name": "stdout",
     "output_type": "stream",
     "text": [
      "Hi!\n",
      "Ingrese su nombre: Lore\n",
      "Buen día Lore\n"
     ]
    }
   ],
   "source": [
    "exec(open(\"test1.py\").read())"
   ]
  },
  {
   "cell_type": "markdown",
   "metadata": {},
   "source": [
    "Responda: ¿Qué se sejecuta en el archivo test1.py?"
   ]
  },
  {
   "cell_type": "code",
   "execution_count": 19,
   "metadata": {
    "collapsed": false
   },
   "outputs": [
    {
     "name": "stdout",
     "output_type": "stream",
     "text": [
      "(Scientist(name='Ada Lovelace', field='math', born=1815, nobel=False),\n",
      " Scientist(name='Emmy Noether', field='math', born=1882, nobel=False),\n",
      " Scientist(name='Marie Curie', field='physics', born=1867, nobel=True),\n",
      " Scientist(name='Tu Youyou', field='chemistry', born=1930, nobel=True),\n",
      " Scientist(name='Ada Yonath', field='chemistry', born=1939, nobel=True),\n",
      " Scientist(name='Vera Rubin', field='astronomy', born=1928, nobel=False),\n",
      " Scientist(name='Sally Ride', field='physics', born=1951, nobel=False))\n",
      "\n",
      "({'age': 204, 'name': 'Ada Lovelace'},\n",
      " {'age': 137, 'name': 'Emmy Noether'},\n",
      " {'age': 152, 'name': 'Marie Curie'},\n",
      " {'age': 89, 'name': 'Tu Youyou'},\n",
      " {'age': 80, 'name': 'Ada Yonath'},\n",
      " {'age': 91, 'name': 'Vera Rubin'},\n",
      " {'age': 68, 'name': 'Sally Ride'})\n"
     ]
    }
   ],
   "source": [
    "%run -i 'secuentialProcessing_1.py'"
   ]
  },
  {
   "cell_type": "code",
   "execution_count": 22,
   "metadata": {
    "collapsed": false
   },
   "outputs": [
    {
     "name": "stdout",
     "output_type": "stream",
     "text": [
      "(Scientist(name='Ada Lovelace', field='math', born=1815, nobel=False),\n",
      " Scientist(name='Emmy Noether', field='math', born=1882, nobel=False),\n",
      " Scientist(name='Marie Curie', field='physics', born=1867, nobel=True),\n",
      " Scientist(name='Tu Youyou', field='chemistry', born=1930, nobel=True),\n",
      " Scientist(name='Ada Yonath', field='chemistry', born=1939, nobel=True),\n",
      " Scientist(name='Vera Rubin', field='astronomy', born=1928, nobel=False),\n",
      " Scientist(name='Sally Ride', field='physics', born=1951, nobel=False))\n",
      "\n",
      "Processing record Ada Lovelace\n",
      "Done processing record Ada Lovelace\n",
      "Processing record Emmy Noether\n",
      "Done processing record Emmy Noether\n",
      "Processing record Marie Curie\n",
      "Done processing record Marie Curie\n",
      "Processing record Tu Youyou\n",
      "Done processing record Tu Youyou\n",
      "Processing record Ada Yonath\n",
      "Done processing record Ada Yonath\n",
      "Processing record Vera Rubin\n",
      "Done processing record Vera Rubin\n",
      "Processing record Sally Ride\n",
      "Done processing record Sally Ride\n",
      "\n",
      "({'age': 204, 'name': 'Ada Lovelace'},\n",
      " {'age': 137, 'name': 'Emmy Noether'},\n",
      " {'age': 152, 'name': 'Marie Curie'},\n",
      " {'age': 89, 'name': 'Tu Youyou'},\n",
      " {'age': 80, 'name': 'Ada Yonath'},\n",
      " {'age': 91, 'name': 'Vera Rubin'},\n",
      " {'age': 68, 'name': 'Sally Ride'})\n"
     ]
    }
   ],
   "source": [
    "%run -i 'secuentialProcessing_2.py'"
   ]
  },
  {
   "cell_type": "code",
   "execution_count": 23,
   "metadata": {
    "collapsed": false
   },
   "outputs": [
    {
     "name": "stdout",
     "output_type": "stream",
     "text": [
      "(Scientist(name='Ada Lovelace', field='math', born=1815, nobel=False),\n",
      " Scientist(name='Emmy Noether', field='math', born=1882, nobel=False),\n",
      " Scientist(name='Marie Curie', field='physics', born=1867, nobel=True),\n",
      " Scientist(name='Tu Youyou', field='chemistry', born=1930, nobel=True),\n",
      " Scientist(name='Ada Yonath', field='chemistry', born=1939, nobel=True),\n",
      " Scientist(name='Vera Rubin', field='astronomy', born=1928, nobel=False),\n",
      " Scientist(name='Sally Ride', field='physics', born=1951, nobel=False))\n",
      "\n",
      "Processing record Ada Lovelace\n",
      "Done processing record Ada Lovelace\n",
      "Processing record Emmy Noether\n",
      "Done processing record Emmy Noether\n",
      "Processing record Marie Curie\n",
      "Done processing record Marie Curie\n",
      "Processing record Tu Youyou\n",
      "Done processing record Tu Youyou\n",
      "Processing record Ada Yonath\n",
      "Done processing record Ada Yonath\n",
      "Processing record Vera Rubin\n",
      "Done processing record Vera Rubin\n",
      "Processing record Sally Ride\n",
      "Done processing record Sally Ride\n",
      "\n",
      "Time to complete: 7.027390003204346\n",
      "({'age': 204, 'name': 'Ada Lovelace'},\n",
      " {'age': 137, 'name': 'Emmy Noether'},\n",
      " {'age': 152, 'name': 'Marie Curie'},\n",
      " {'age': 89, 'name': 'Tu Youyou'},\n",
      " {'age': 80, 'name': 'Ada Yonath'},\n",
      " {'age': 91, 'name': 'Vera Rubin'},\n",
      " {'age': 68, 'name': 'Sally Ride'})\n"
     ]
    }
   ],
   "source": [
    "%run -i 'secuentialProcessing_3.py'"
   ]
  },
  {
   "cell_type": "code",
   "execution_count": 24,
   "metadata": {
    "collapsed": false
   },
   "outputs": [
    {
     "name": "stdout",
     "output_type": "stream",
     "text": [
      "(Scientist(name='Ada Lovelace', field='math', born=1815, nobel=False),\n",
      " Scientist(name='Emmy Noether', field='math', born=1882, nobel=False),\n",
      " Scientist(name='Marie Curie', field='physics', born=1867, nobel=True),\n",
      " Scientist(name='Tu Youyou', field='chemistry', born=1930, nobel=True),\n",
      " Scientist(name='Ada Yonath', field='chemistry', born=1939, nobel=True),\n",
      " Scientist(name='Vera Rubin', field='astronomy', born=1928, nobel=False),\n",
      " Scientist(name='Sally Ride', field='physics', born=1951, nobel=False))\n",
      "\n",
      "Processing record Marie Curie\n",
      "Processing record Ada Lovelace\n",
      "Processing record Emmy Noether\n",
      "Processing record Tu Youyou\n",
      "Done processing record Ada Lovelace\n",
      "Done processing record Tu Youyou\n",
      "Done processing record Marie Curie\n",
      "Done processing record Emmy Noether\n",
      "Processing record Vera Rubin\n",
      "Processing record Sally Ride\n",
      "Processing record Ada Yonath\n",
      "Done processing record Vera Rubin\n",
      "Done processing record Sally Ride\n",
      "Done processing record Ada Yonath\n",
      "\n",
      "Time to complete: 2.0585148334503174\n",
      "({'age': 204, 'name': 'Ada Lovelace'},\n",
      " {'age': 137, 'name': 'Emmy Noether'},\n",
      " {'age': 152, 'name': 'Marie Curie'},\n",
      " {'age': 89, 'name': 'Tu Youyou'},\n",
      " {'age': 80, 'name': 'Ada Yonath'},\n",
      " {'age': 91, 'name': 'Vera Rubin'},\n",
      " {'age': 68, 'name': 'Sally Ride'})\n"
     ]
    }
   ],
   "source": [
    "%run -i 'parallelProcessing_1.py'"
   ]
  },
  {
   "cell_type": "code",
   "execution_count": 25,
   "metadata": {
    "collapsed": false
   },
   "outputs": [
    {
     "name": "stdout",
     "output_type": "stream",
     "text": [
      "(Scientist(name='Ada Lovelace', field='math', born=1815, nobel=False),\n",
      " Scientist(name='Emmy Noether', field='math', born=1882, nobel=False),\n",
      " Scientist(name='Marie Curie', field='physics', born=1867, nobel=True),\n",
      " Scientist(name='Tu Youyou', field='chemistry', born=1930, nobel=True),\n",
      " Scientist(name='Ada Yonath', field='chemistry', born=1939, nobel=True),\n",
      " Scientist(name='Vera Rubin', field='astronomy', born=1928, nobel=False),\n",
      " Scientist(name='Sally Ride', field='physics', born=1951, nobel=False))\n",
      "\n",
      "Process 17652 working record Marie Curie\n",
      "Process 17653 working record Tu Youyou\n",
      "Process 17650 working record Ada Lovelace\n",
      "Process 17651 working record Emmy Noether\n",
      "Process 17652 done processing record Marie Curie\n",
      "Process 17650 done processing record Ada Lovelace\n",
      "Process 17651 done processing record Emmy Noether\n",
      "Process 17653 done processing record Tu Youyou\n",
      "Process 17650 working record Ada Yonath\n",
      "Process 17652 working record Vera Rubin\n",
      "Process 17653 working record Sally Ride\n",
      "Process 17650 done processing record Ada Yonath\n",
      "Process 17652 done processing record Vera Rubin\n",
      "Process 17653 done processing record Sally Ride\n",
      "\n",
      "Time to complete: 2.0513370037078857\n",
      "({'age': 204, 'name': 'Ada Lovelace'},\n",
      " {'age': 137, 'name': 'Emmy Noether'},\n",
      " {'age': 152, 'name': 'Marie Curie'},\n",
      " {'age': 89, 'name': 'Tu Youyou'},\n",
      " {'age': 80, 'name': 'Ada Yonath'},\n",
      " {'age': 91, 'name': 'Vera Rubin'},\n",
      " {'age': 68, 'name': 'Sally Ride'})\n"
     ]
    }
   ],
   "source": [
    "%run -i 'parallelProcessing_2.py'"
   ]
  },
  {
   "cell_type": "code",
   "execution_count": 26,
   "metadata": {
    "collapsed": false
   },
   "outputs": [
    {
     "name": "stdout",
     "output_type": "stream",
     "text": [
      "(Scientist(name='Ada Lovelace', field='math', born=1815, nobel=False),\n",
      " Scientist(name='Emmy Noether', field='math', born=1882, nobel=False),\n",
      " Scientist(name='Marie Curie', field='physics', born=1867, nobel=True),\n",
      " Scientist(name='Tu Youyou', field='chemistry', born=1930, nobel=True),\n",
      " Scientist(name='Ada Yonath', field='chemistry', born=1939, nobel=True),\n",
      " Scientist(name='Vera Rubin', field='astronomy', born=1928, nobel=False),\n",
      " Scientist(name='Sally Ride', field='physics', born=1951, nobel=False))\n",
      "\n",
      "Process 17656 working record Ada Lovelace\n",
      "Process 17656 done processing record Ada Lovelace\n",
      "Process 17656 working record Emmy Noether\n",
      "Process 17656 done processing record Emmy Noether\n",
      "Process 17656 working record Marie Curie\n",
      "Process 17656 done processing record Marie Curie\n",
      "Process 17656 working record Tu Youyou\n",
      "Process 17656 done processing record Tu Youyou\n",
      "Process 17656 working record Ada Yonath\n",
      "Process 17656 done processing record Ada Yonath\n",
      "Process 17656 working record Vera Rubin\n",
      "Process 17656 done processing record Vera Rubin\n",
      "Process 17656 working record Sally Ride\n",
      "Process 17656 done processing record Sally Ride\n",
      "\n",
      "Time to complete: 7.0613062381744385\n",
      "({'age': 204, 'name': 'Ada Lovelace'},\n",
      " {'age': 137, 'name': 'Emmy Noether'},\n",
      " {'age': 152, 'name': 'Marie Curie'},\n",
      " {'age': 89, 'name': 'Tu Youyou'},\n",
      " {'age': 80, 'name': 'Ada Yonath'},\n",
      " {'age': 91, 'name': 'Vera Rubin'},\n",
      " {'age': 68, 'name': 'Sally Ride'})\n"
     ]
    }
   ],
   "source": [
    "%run -i 'parallelProcessing_3.py'"
   ]
  },
  {
   "cell_type": "code",
   "execution_count": 27,
   "metadata": {
    "collapsed": false
   },
   "outputs": [
    {
     "name": "stdout",
     "output_type": "stream",
     "text": [
      "(Scientist(name='Ada Lovelace', field='math', born=1815, nobel=False),\n",
      " Scientist(name='Emmy Noether', field='math', born=1882, nobel=False),\n",
      " Scientist(name='Marie Curie', field='physics', born=1867, nobel=True),\n",
      " Scientist(name='Tu Youyou', field='chemistry', born=1930, nobel=True),\n",
      " Scientist(name='Ada Yonath', field='chemistry', born=1939, nobel=True),\n",
      " Scientist(name='Vera Rubin', field='astronomy', born=1928, nobel=False),\n",
      " Scientist(name='Sally Ride', field='physics', born=1951, nobel=False))\n",
      "\n",
      "Process 17665 working record Emmy Noether\n",
      "Process 17668 working record Ada Yonath\n",
      "Process 17664 working record Ada Lovelace\n",
      "Process 17666 working record Marie Curie\n",
      "Process 17667 working record Tu Youyou\n",
      "Process 17669 working record Vera Rubin\n",
      "Process 17670 working record Sally Ride\n",
      "Process 17665 done processing record Emmy Noether\n",
      "Process 17668 done processing record Ada Yonath\n",
      "Process 17664 done processing record Ada Lovelace\n",
      "Process 17666 done processing record Marie Curie\n",
      "Process 17670 done processing record Sally Ride\n",
      "Process 17669 done processing record Vera Rubin\n",
      "Process 17667 done processing record Tu Youyou\n",
      "\n",
      "Time to complete: 1.062671184539795\n",
      "({'age': 204, 'name': 'Ada Lovelace'},\n",
      " {'age': 137, 'name': 'Emmy Noether'},\n",
      " {'age': 152, 'name': 'Marie Curie'},\n",
      " {'age': 89, 'name': 'Tu Youyou'},\n",
      " {'age': 80, 'name': 'Ada Yonath'},\n",
      " {'age': 91, 'name': 'Vera Rubin'},\n",
      " {'age': 68, 'name': 'Sally Ride'})\n"
     ]
    }
   ],
   "source": [
    "%run -i 'parallelProcessing_4.py'"
   ]
  },
  {
   "cell_type": "code",
   "execution_count": null,
   "metadata": {
    "collapsed": true
   },
   "outputs": [],
   "source": []
  }
 ],
 "metadata": {
  "kernelspec": {
   "display_name": "Python 3",
   "language": "python",
   "name": "python3"
  },
  "language_info": {
   "codemirror_mode": {
    "name": "ipython",
    "version": 3
   },
   "file_extension": ".py",
   "mimetype": "text/x-python",
   "name": "python",
   "nbconvert_exporter": "python",
   "pygments_lexer": "ipython3",
   "version": "3.6.5"
  }
 },
 "nbformat": 4,
 "nbformat_minor": 0
}
